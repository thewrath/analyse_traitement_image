{
 "cells": [
  {
   "cell_type": "markdown",
   "metadata": {},
   "source": [
    "# Réseaux de classification d'images (6 classes)"
   ]
  },
  {
   "cell_type": "code",
   "execution_count": 11,
   "metadata": {},
   "outputs": [],
   "source": [
    "from keras.preprocessing.image import ImageDataGenerator, array_to_img, img_to_array, load_img\n",
    "from keras.models import Sequential\n",
    "from keras.layers import Conv2D, MaxPooling2D\n",
    "from keras.layers import Activation, Dropout, Flatten, Dense\n",
    "from keras.models import load_model\n",
    "from keras import backend as K\n",
    "\n",
    "from sklearn.metrics import confusion_matrix\n",
    "from sklearn.metrics import accuracy_score\n",
    "\n",
    "import numpy as np\n",
    "from matplotlib import pyplot as plt"
   ]
  },
  {
   "cell_type": "markdown",
   "metadata": {
    "id": "PCHI8QHi-MXI"
   },
   "source": [
    "## Chargement du jeu de données"
   ]
  },
  {
   "cell_type": "code",
   "execution_count": 12,
   "metadata": {
    "colab": {
     "base_uri": "https://localhost:8080/"
    },
    "id": "OM1S6J6L61VS",
    "outputId": "612f9781-ab74-4640-8870-15ed3b595554"
   },
   "outputs": [
    {
     "name": "stdout",
     "output_type": "stream",
     "text": [
      "Found 300 images belonging to 6 classes.\n",
      "Found 60 images belonging to 6 classes.\n"
     ]
    }
   ],
   "source": [
    "batchSize = 16\n",
    "imgWidth, imgHeight = 80, 120\n",
    "\n",
    "path = \"\"\n",
    "datagen = ImageDataGenerator(\n",
    "  rescale=1.0/255,\n",
    "  shear_range=0.2,\n",
    "  zoom_range=0.2,\n",
    "  horizontal_flip=True\n",
    ")\n",
    "test_datagen = ImageDataGenerator(rescale=1./255)\n",
    "\n",
    "data_train = datagen.flow_from_directory('data/ICN-6C-data/train', batch_size=batchSize, target_size=(imgWidth, imgHeight))\n",
    "data_validation = datagen.flow_from_directory('data/ICN-6C-data/validation', batch_size=batchSize, target_size=(imgWidth, imgHeight))\n",
    "\n",
    "nbTrainSamples = data_train.samples\n",
    "nbValidationSamples = data_validation.samples"
   ]
  },
  {
   "cell_type": "markdown",
   "metadata": {},
   "source": [
    "### Extraction des classes"
   ]
  },
  {
   "cell_type": "code",
   "execution_count": 13,
   "metadata": {},
   "outputs": [
    {
     "name": "stdout",
     "output_type": "stream",
     "text": [
      "{'art_antiques': 0, 'obj_aviation': 1, 'obj_cards': 2, 'obj_dish': 3, 'pet_cat': 4, 'sc_forests': 5}\n",
      "{'art_antiques': 0, 'obj_aviation': 1, 'obj_cards': 2, 'obj_dish': 3, 'pet_cat': 4, 'sc_forests': 5}\n"
     ]
    }
   ],
   "source": [
    "print(data_train.class_indices)\n",
    "print(data_validation.class_indices)"
   ]
  },
  {
   "cell_type": "markdown",
   "metadata": {
    "id": "SsXjvezP-qlF"
   },
   "source": [
    "## Mise en place d'un modèle (convnet) multi-classe"
   ]
  },
  {
   "cell_type": "code",
   "execution_count": 31,
   "metadata": {
    "id": "eBVOZbi4-tAC"
   },
   "outputs": [],
   "source": [
    "nbClasses = len(data_train.class_indices)\n",
    "\n",
    "model = Sequential()\n",
    "model.add(Conv2D(32, (3, 3), input_shape=(imgWidth, imgHeight, 3)))\n",
    "model.add(Activation('relu'))\n",
    "model.add(MaxPooling2D(pool_size=(2, 2)))\n",
    "\n",
    "model.add(Conv2D(32, (3, 3)))\n",
    "model.add(Activation('relu'))\n",
    "model.add(MaxPooling2D(pool_size=(2, 2)))\n",
    "\n",
    "model.add(Conv2D(64, (3, 3)))\n",
    "model.add(Activation('relu'))\n",
    "model.add(MaxPooling2D(pool_size=(2, 2)))\n",
    "\n",
    "model.add(Flatten())  # Couche de conversion des features (de base sur 3 dimensions) en 1 dimensions (la classe)\n",
    "model.add(Dense(64))\n",
    "model.add(Activation('relu'))\n",
    "model.add(Dropout(0.5))\n",
    "model.add(Dense(nbClasses))\n",
    "model.add(Activation('softmax'))\n",
    "\n",
    "# Utilisation de la fonction de coût d'erreur \"binary_crossentropy\" -> chaque sortie est vraie ou fausse (une sortie par classe).\n",
    "model.compile(loss='categorical_crossentropy',\n",
    "              optimizer='rmsprop',\n",
    "              metrics=['accuracy'])"
   ]
  },
  {
   "cell_type": "markdown",
   "metadata": {
    "id": "Iv02r0LrC8y7"
   },
   "source": [
    "## Entrainement du modèle"
   ]
  },
  {
   "cell_type": "code",
   "execution_count": 32,
   "metadata": {
    "colab": {
     "base_uri": "https://localhost:8080/"
    },
    "id": "6HVEeHcnBYwv",
    "outputId": "45bf2ab1-ba5c-483e-8cfc-944887f82610",
    "scrolled": false
   },
   "outputs": [
    {
     "name": "stderr",
     "output_type": "stream",
     "text": [
      "/nix/store/4g2wq9q5638ffbc1ikx38gqhlp3z94wp-python3-3.8.7-env/lib/python3.8/site-packages/tensorflow/python/keras/engine/training.py:1844: UserWarning: `Model.fit_generator` is deprecated and will be removed in a future version. Please use `Model.fit`, which supports generators.\n",
      "  warnings.warn('`Model.fit_generator` is deprecated and '\n"
     ]
    },
    {
     "name": "stdout",
     "output_type": "stream",
     "text": [
      "Epoch 1/50\n",
      "18/18 [==============================] - 3s 121ms/step - loss: 1.8202 - accuracy: 0.1741 - val_loss: 1.6158 - val_accuracy: 0.4375\n",
      "Epoch 2/50\n",
      "18/18 [==============================] - 2s 104ms/step - loss: 1.5331 - accuracy: 0.4308 - val_loss: 1.1879 - val_accuracy: 0.5625\n",
      "Epoch 3/50\n",
      "18/18 [==============================] - 2s 119ms/step - loss: 1.3244 - accuracy: 0.4989 - val_loss: 0.9670 - val_accuracy: 0.7292\n",
      "Epoch 4/50\n",
      "18/18 [==============================] - 2s 98ms/step - loss: 1.1124 - accuracy: 0.6067 - val_loss: 0.9010 - val_accuracy: 0.6875\n",
      "Epoch 5/50\n",
      "18/18 [==============================] - 2s 97ms/step - loss: 0.9950 - accuracy: 0.6330 - val_loss: 0.5736 - val_accuracy: 0.8125\n",
      "Epoch 6/50\n",
      "18/18 [==============================] - 2s 99ms/step - loss: 0.7997 - accuracy: 0.6975 - val_loss: 1.0001 - val_accuracy: 0.6458\n",
      "Epoch 7/50\n",
      "18/18 [==============================] - 2s 113ms/step - loss: 0.8247 - accuracy: 0.7231 - val_loss: 0.6618 - val_accuracy: 0.8542\n",
      "Epoch 8/50\n",
      "18/18 [==============================] - 2s 101ms/step - loss: 0.6600 - accuracy: 0.7615 - val_loss: 0.7822 - val_accuracy: 0.6250\n",
      "Epoch 9/50\n",
      "18/18 [==============================] - 2s 126ms/step - loss: 0.8066 - accuracy: 0.7042 - val_loss: 0.7167 - val_accuracy: 0.8333\n",
      "Epoch 10/50\n",
      "18/18 [==============================] - 3s 139ms/step - loss: 0.6736 - accuracy: 0.7726 - val_loss: 0.5683 - val_accuracy: 0.8125\n",
      "Epoch 11/50\n",
      "18/18 [==============================] - 2s 117ms/step - loss: 0.6170 - accuracy: 0.8135 - val_loss: 0.6187 - val_accuracy: 0.7292\n",
      "Epoch 12/50\n",
      "18/18 [==============================] - 2s 99ms/step - loss: 0.5960 - accuracy: 0.7944 - val_loss: 0.6641 - val_accuracy: 0.7083\n",
      "Epoch 13/50\n",
      "18/18 [==============================] - 2s 98ms/step - loss: 0.5716 - accuracy: 0.8118 - val_loss: 0.4233 - val_accuracy: 0.8750\n",
      "Epoch 14/50\n",
      "18/18 [==============================] - 2s 97ms/step - loss: 0.5936 - accuracy: 0.8130 - val_loss: 0.3872 - val_accuracy: 0.8958\n",
      "Epoch 15/50\n",
      "18/18 [==============================] - 2s 95ms/step - loss: 0.4551 - accuracy: 0.8341 - val_loss: 0.5698 - val_accuracy: 0.7500\n",
      "Epoch 16/50\n",
      "18/18 [==============================] - 2s 97ms/step - loss: 0.3967 - accuracy: 0.8466 - val_loss: 0.4164 - val_accuracy: 0.8958\n",
      "Epoch 17/50\n",
      "18/18 [==============================] - 2s 97ms/step - loss: 0.4312 - accuracy: 0.8695 - val_loss: 0.5434 - val_accuracy: 0.8125\n",
      "Epoch 18/50\n",
      "18/18 [==============================] - 2s 96ms/step - loss: 0.3694 - accuracy: 0.8867 - val_loss: 0.4942 - val_accuracy: 0.8958\n",
      "Epoch 19/50\n",
      "18/18 [==============================] - 2s 100ms/step - loss: 0.4772 - accuracy: 0.8094 - val_loss: 0.5949 - val_accuracy: 0.8333\n",
      "Epoch 20/50\n",
      "18/18 [==============================] - 2s 116ms/step - loss: 0.4275 - accuracy: 0.8321 - val_loss: 0.4987 - val_accuracy: 0.8125\n",
      "Epoch 21/50\n",
      "18/18 [==============================] - 2s 98ms/step - loss: 0.3017 - accuracy: 0.9083 - val_loss: 0.3873 - val_accuracy: 0.8125\n",
      "Epoch 22/50\n",
      "18/18 [==============================] - 2s 97ms/step - loss: 0.3937 - accuracy: 0.8451 - val_loss: 0.4382 - val_accuracy: 0.8542\n",
      "Epoch 23/50\n",
      "18/18 [==============================] - 2s 96ms/step - loss: 0.4669 - accuracy: 0.8535 - val_loss: 0.4197 - val_accuracy: 0.8750\n",
      "Epoch 24/50\n",
      "18/18 [==============================] - 2s 95ms/step - loss: 0.3883 - accuracy: 0.8836 - val_loss: 0.7693 - val_accuracy: 0.8125\n",
      "Epoch 25/50\n",
      "18/18 [==============================] - 2s 93ms/step - loss: 0.5242 - accuracy: 0.8241 - val_loss: 0.3899 - val_accuracy: 0.8542\n",
      "Epoch 26/50\n",
      "18/18 [==============================] - 2s 95ms/step - loss: 0.3940 - accuracy: 0.8728 - val_loss: 0.5420 - val_accuracy: 0.8333\n",
      "Epoch 27/50\n",
      "18/18 [==============================] - 2s 98ms/step - loss: 0.2680 - accuracy: 0.9161 - val_loss: 0.5323 - val_accuracy: 0.8750\n",
      "Epoch 28/50\n",
      "18/18 [==============================] - 2s 93ms/step - loss: 0.2893 - accuracy: 0.8857 - val_loss: 0.5112 - val_accuracy: 0.8750\n",
      "Epoch 29/50\n",
      "18/18 [==============================] - 2s 100ms/step - loss: 0.2063 - accuracy: 0.9529 - val_loss: 0.3557 - val_accuracy: 0.8542\n",
      "Epoch 30/50\n",
      "18/18 [==============================] - 2s 96ms/step - loss: 0.3215 - accuracy: 0.8819 - val_loss: 0.2946 - val_accuracy: 0.9375\n",
      "Epoch 31/50\n",
      "18/18 [==============================] - 2s 102ms/step - loss: 0.2208 - accuracy: 0.9079 - val_loss: 0.4912 - val_accuracy: 0.8333\n",
      "Epoch 32/50\n",
      "18/18 [==============================] - 2s 95ms/step - loss: 0.6025 - accuracy: 0.8344 - val_loss: 0.5539 - val_accuracy: 0.8542\n",
      "Epoch 33/50\n",
      "18/18 [==============================] - 2s 97ms/step - loss: 0.2643 - accuracy: 0.9005 - val_loss: 0.5208 - val_accuracy: 0.8542\n",
      "Epoch 34/50\n",
      "18/18 [==============================] - 2s 97ms/step - loss: 0.2623 - accuracy: 0.8989 - val_loss: 0.6190 - val_accuracy: 0.7708\n",
      "Epoch 35/50\n",
      "18/18 [==============================] - 2s 94ms/step - loss: 0.1707 - accuracy: 0.9307 - val_loss: 0.4692 - val_accuracy: 0.8542\n",
      "Epoch 36/50\n",
      "18/18 [==============================] - 2s 97ms/step - loss: 0.2824 - accuracy: 0.8977 - val_loss: 0.3703 - val_accuracy: 0.8542\n",
      "Epoch 37/50\n",
      "18/18 [==============================] - 2s 97ms/step - loss: 0.2777 - accuracy: 0.9211 - val_loss: 0.4728 - val_accuracy: 0.8750\n",
      "Epoch 38/50\n",
      "18/18 [==============================] - 2s 97ms/step - loss: 0.2042 - accuracy: 0.9155 - val_loss: 0.6872 - val_accuracy: 0.7708\n",
      "Epoch 39/50\n",
      "18/18 [==============================] - 2s 96ms/step - loss: 0.3587 - accuracy: 0.8904 - val_loss: 0.3674 - val_accuracy: 0.8542\n",
      "Epoch 40/50\n",
      "18/18 [==============================] - 2s 94ms/step - loss: 0.1872 - accuracy: 0.9319 - val_loss: 0.3162 - val_accuracy: 0.9167\n",
      "Epoch 41/50\n",
      "18/18 [==============================] - 2s 94ms/step - loss: 0.1183 - accuracy: 0.9585 - val_loss: 0.3272 - val_accuracy: 0.8958\n",
      "Epoch 42/50\n",
      "18/18 [==============================] - 2s 96ms/step - loss: 0.2055 - accuracy: 0.9442 - val_loss: 0.5452 - val_accuracy: 0.7500\n",
      "Epoch 43/50\n",
      "18/18 [==============================] - 2s 95ms/step - loss: 0.3521 - accuracy: 0.9004 - val_loss: 0.5144 - val_accuracy: 0.8750\n",
      "Epoch 44/50\n",
      "18/18 [==============================] - 2s 96ms/step - loss: 0.2592 - accuracy: 0.9024 - val_loss: 0.6294 - val_accuracy: 0.8750\n",
      "Epoch 45/50\n",
      "18/18 [==============================] - 2s 94ms/step - loss: 0.1888 - accuracy: 0.9317 - val_loss: 0.5912 - val_accuracy: 0.8958\n",
      "Epoch 46/50\n",
      "18/18 [==============================] - 2s 93ms/step - loss: 0.0833 - accuracy: 0.9627 - val_loss: 0.6419 - val_accuracy: 0.8333\n",
      "Epoch 47/50\n",
      "18/18 [==============================] - 2s 101ms/step - loss: 0.2284 - accuracy: 0.9360 - val_loss: 0.5997 - val_accuracy: 0.8125\n",
      "Epoch 48/50\n",
      "18/18 [==============================] - 2s 99ms/step - loss: 0.0968 - accuracy: 0.9705 - val_loss: 0.6317 - val_accuracy: 0.8125\n",
      "Epoch 49/50\n",
      "18/18 [==============================] - 2s 98ms/step - loss: 0.2053 - accuracy: 0.9115 - val_loss: 0.8232 - val_accuracy: 0.8542\n",
      "Epoch 50/50\n",
      "18/18 [==============================] - 2s 103ms/step - loss: 0.2046 - accuracy: 0.9064 - val_loss: 0.4667 - val_accuracy: 0.8958\n",
      "INFO:tensorflow:Assets written to: models/ICN-6C/assets\n"
     ]
    }
   ],
   "source": [
    "history = model.fit_generator(\n",
    "        data_train,\n",
    "        steps_per_epoch=nbTrainSamples // batchSize,\n",
    "        epochs=50,\n",
    "        validation_data=data_validation,\n",
    "        validation_steps=nbValidationSamples // batchSize\n",
    ")\n",
    "\n",
    "# Sauvegarde du modèle\n",
    "model.save(\"models/ICN-6C\")"
   ]
  },
  {
   "cell_type": "code",
   "execution_count": 33,
   "metadata": {},
   "outputs": [
    {
     "data": {
      "image/png": "[encoded data removed]",
      "text/plain": [
       "<Figure size 432x288 with 1 Axes>"
      ]
     },
     "metadata": {
      "needs_background": "light"
     },
     "output_type": "display_data"
    },
    {
     "data": {
      "image/png": "[encoded data removed]",
      "text/plain": [
       "<Figure size 432x288 with 1 Axes>"
      ]
     },
     "metadata": {
      "needs_background": "light"
     },
     "output_type": "display_data"
    }
   ],
   "source": [
    "# Historique de la précision\n",
    "plt.plot(history.history['accuracy'])\n",
    "plt.plot(history.history['val_accuracy'])\n",
    "plt.title(\"Précision du modèle en fonction du nombre d'époques\")\n",
    "plt.ylabel('précision')\n",
    "plt.xlabel('époques')\n",
    "plt.legend(['train', 'test'], loc='upper left')\n",
    "plt.show()\n",
    "# Historique de la fonction de coût\n",
    "plt.plot(history.history['loss'])\n",
    "plt.plot(history.history['val_loss'])\n",
    "plt.title(\"Evolution de la fonction de coût en fonction du nombre d'époques\")\n",
    "plt.ylabel('fonction coût')\n",
    "plt.xlabel('époques')\n",
    "plt.legend(['train', 'test'], loc='upper left')\n",
    "plt.show()"
   ]
  },
  {
   "cell_type": "markdown",
   "metadata": {
    "id": "xSkTfJM-G5b9"
   },
   "source": [
    "## Test du modèle"
   ]
  },
  {
   "cell_type": "markdown",
   "metadata": {
    "id": "yH_Iy7_xJPkw"
   },
   "source": [
    "### Restauration du modèle"
   ]
  },
  {
   "cell_type": "code",
   "execution_count": 35,
   "metadata": {
    "colab": {
     "base_uri": "https://localhost:8080/"
    },
    "id": "QhUn3L-AHA7j",
    "outputId": "fc78edb9-617c-4748-c596-c5e8dc8a843b"
   },
   "outputs": [],
   "source": [
    "# Utile dans le cas ou on réutilise le modèle plus tard\n",
    "model = load_model(\"models/ICN-6C\")"
   ]
  },
  {
   "cell_type": "markdown",
   "metadata": {},
   "source": [
    "### Génération de la matrice de confusion"
   ]
  },
  {
   "cell_type": "code",
   "execution_count": 36,
   "metadata": {},
   "outputs": [
    {
     "name": "stdout",
     "output_type": "stream",
     "text": [
      "Found 240 images belonging to 6 classes.\n"
     ]
    },
    {
     "data": {
      "text/plain": [
       "array([[31,  2,  0,  7,  0,  0],\n",
       "       [ 0, 30,  5,  4,  0,  1],\n",
       "       [ 0,  0, 40,  0,  0,  0],\n",
       "       [ 0,  0,  1, 39,  0,  0],\n",
       "       [ 1,  0, 11,  0, 28,  0],\n",
       "       [ 0,  0, 11,  0,  0, 29]])"
      ]
     },
     "execution_count": 36,
     "metadata": {},
     "output_type": "execute_result"
    }
   ],
   "source": [
    "test_datagen = ImageDataGenerator()\n",
    "data_test = test_datagen.flow_from_directory('data/ICN-6C-data/test', target_size=(imgWidth, imgHeight), shuffle=False)\n",
    "\n",
    "predictions = model.predict(data_test)\n",
    "pred_labels = list(np.argmax(predictions, axis=-1))\n",
    "true_labels = data_test.classes\n",
    "\n",
    "cm = confusion_matrix(true_labels, pred_labels)\n",
    "cm"
   ]
  },
  {
   "cell_type": "markdown",
   "metadata": {},
   "source": [
    "### Calcule de la précision"
   ]
  },
  {
   "cell_type": "code",
   "execution_count": 37,
   "metadata": {},
   "outputs": [
    {
     "name": "stdout",
     "output_type": "stream",
     "text": [
      "Résultat : 197/240 (82.08333333333333%)\n"
     ]
    }
   ],
   "source": [
    "totalSuccess = accuracy_score(true_labels, pred_labels, normalize=False)\n",
    "totalPredictions = data_test.samples\n",
    "\n",
    "accuracy = totalSuccess / totalPredictions * 100\n",
    "\n",
    "print(\"Résultat : \" + str(totalSuccess) + \"/\" + str(totalPredictions) + \" (\"+ str(accuracy) + \"%)\")"
   ]
  },
  {
   "cell_type": "markdown",
   "metadata": {},
   "source": [
    "## Application - tri d'images"
   ]
  },
  {
   "cell_type": "code",
   "execution_count": 10,
   "metadata": {},
   "outputs": [
    {
     "name": "stdout",
     "output_type": "stream",
     "text": [
      "DONE\n"
     ]
    }
   ],
   "source": [
    "import os\n",
    "import shutil\n",
    "\n",
    "class_indices = data_train.class_indices\n",
    "class_list = list(class_indices)\n",
    "\n",
    "current_path = os.getcwd()\n",
    "sorted_path = os.path.join(current_path, \"application/sorted/\")\n",
    "unsorted_path = os.path.join(current_path, \"application/unsorted\")\n",
    "\n",
    "# Suppression des anciennes utilisation\n",
    "shutil.rmtree(sorted_path)\n",
    "\n",
    "def get_class_dir(clazz):\n",
    "    return os.path.join(sorted_path, clazz)\n",
    "\n",
    "def predict_image_class(image_path):\n",
    "    # Chargement de l'image\n",
    "    img = load_img(image_path, target_size=(80, 120))\n",
    "    img_array = img_to_array(img)\n",
    "    img_array = np.expand_dims(img_array, axis = 0)\n",
    "\n",
    "    # Prédiction de la classe\n",
    "    return model.predict(img_array)\n",
    "\n",
    "def extract_class_from_predict(predict):\n",
    "    pass\n",
    "    \n",
    "    \n",
    "# 1. Créer un sous-dossier pour chaque classe connues de mon modèle\n",
    "for key in class_indices:\n",
    "    # Création d'un dossier par classe\n",
    "    path =  get_class_dir(key)\n",
    "    os.makedirs(path)\n",
    "\n",
    "\n",
    "# 2. Parcourir les images non-triées (dans un dossier unsorted)\n",
    "for filename in os.listdir(unsorted_path):\n",
    "    # On vérifie que c'est bien une image (jpg)\n",
    "    if filename.endswith(\".jpg\"):\n",
    "        file_path = os.path.join(unsorted_path, filename)\n",
    "        # 3. Charger chaque image et demander au modèle de prédire la classe\n",
    "        # On récupère seulement la meilleure prédiction\n",
    "        top_predict = ((-predict_image_class(file_path)).argsort())[0][:1]\n",
    "        # print(top_predict[0])\n",
    "        img_class = class_list[top_predict[0]]\n",
    "        # print(img_class)\n",
    "        class_dir = get_class_dir(img_class)\n",
    "        # 4. En fonction de la classe prédite déplacer l’image dans le sous-dossier correspondant.\n",
    "        shutil.move(file_path, class_dir)\n",
    "\n",
    "print(\"DONE\")"
   ]
  }
 ],
 "metadata": {
  "colab": {
   "collapsed_sections": [],
   "name": "Projet classification image",
   "provenance": [],
   "toc_visible": true
  },
  "kernelspec": {
   "display_name": "Python 3",
   "language": "python",
   "name": "python3"
  },
  "language_info": {
   "codemirror_mode": {
    "name": "ipython",
    "version": 3
   },
   "file_extension": ".py",
   "mimetype": "text/x-python",
   "name": "python",
   "nbconvert_exporter": "python",
   "pygments_lexer": "ipython3",
   "version": "3.8.7"
  }
 },
 "nbformat": 4,
 "nbformat_minor": 1
}
