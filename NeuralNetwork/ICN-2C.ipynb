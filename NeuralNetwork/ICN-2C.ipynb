{
 "cells": [
  {
   "cell_type": "markdown",
   "metadata": {},
   "source": [
    "# Réseaux de classification d'image (2 classes)"
   ]
  },
  {
   "cell_type": "code",
   "execution_count": 14,
   "metadata": {},
   "outputs": [],
   "source": [
    "from keras.preprocessing.image import ImageDataGenerator, array_to_img, img_to_array, load_img\n",
    "from keras.models import Sequential\n",
    "from keras.layers import Conv2D, MaxPooling2D\n",
    "from keras.layers import Activation, Dropout, Flatten, Dense\n",
    "from keras import backend as K\n",
    "from matplotlib import pyplot as plt\n",
    "\n",
    "from sklearn.metrics import confusion_matrix\n",
    "from sklearn.metrics import accuracy_score\n",
    "\n",
    "import numpy as np"
   ]
  },
  {
   "cell_type": "code",
   "execution_count": 2,
   "metadata": {},
   "outputs": [],
   "source": [
    "# Dimension des images du jeu de données\n",
    "img_width, img_height = 150, 150\n",
    "\n",
    "train_data_dir = 'data/ICN-2C-data/train'\n",
    "validation_data_dir = 'data/ICN-2C-data/validation'\n",
    "nb_train_samples = 2000\n",
    "nb_validation_samples = 800\n",
    "epochs = 50\n",
    "batch_size = 16"
   ]
  },
  {
   "cell_type": "markdown",
   "metadata": {},
   "source": [
    "## Augmentation du jeu de données\n",
    "L'objectif de cette partie est d'augmenter la taille du jeu de données en effectuant des transformations sur les échantillons du jeu initial."
   ]
  },
  {
   "cell_type": "markdown",
   "metadata": {},
   "source": [
    "### Principe "
   ]
  },
  {
   "cell_type": "code",
   "execution_count": 3,
   "metadata": {},
   "outputs": [],
   "source": [
    "datagen = ImageDataGenerator(\n",
    "    rotation_range=40, # On tourne l'image aléatoirement de 0 à 40°\n",
    "    width_shift_range=0.2, # On fait une translation (sur la largeur) alétoire de 0 à 20% de la largeur de l'image\n",
    "    height_shift_range=0.2, # Pareil mais sur la hauteur\n",
    "    rescale=1./255, # Transforme le RGB(255) en RGB(1)\n",
    "    shear_range=0.2, # Applique aléatoirement des transformations de shearing (transvection °_°)\n",
    "    zoom_range=0.2, # Zoom aléatoire de maximum 20% du zoom initial\n",
    "    horizontal_flip=True, # Fait aléatoirement un renversement horizontal de l'image\n",
    "    fill_mode='nearest' # Type d'interpolation à appliquer pour les nouveaux pixels (qui sont créés lors des manipulations)\n",
    ")\n",
    "\n",
    "# Définie a manipulation à éffectuer sur l'image\n",
    "img = load_img('data/ICN-2c-data/train/cats/cat.0.jpg')\n",
    "x = img_to_array(img)\n",
    "x = x.reshape((1,) + x.shape)\n",
    "\n",
    "# On applique c'est transformation au lot d'image\n",
    "i= 0 \n",
    "for batch in datagen.flow(x, batch_size=1, save_to_dir='preview', save_prefix='cat', save_format='jpeg'):\n",
    "    i+=1\n",
    "    if i > 20:\n",
    "        break"
   ]
  },
  {
   "cell_type": "markdown",
   "metadata": {},
   "source": [
    "### Utilisation pour le jeu de données"
   ]
  },
  {
   "cell_type": "code",
   "execution_count": 4,
   "metadata": {},
   "outputs": [
    {
     "name": "stdout",
     "output_type": "stream",
     "text": [
      "Found 25000 images belonging to 2 classes.\n",
      "Found 25000 images belonging to 2 classes.\n"
     ]
    }
   ],
   "source": [
    "# L'augmentation pour le jeu d'entrainement\n",
    "train_datagen = ImageDataGenerator(\n",
    "    rescale=1. / 255,\n",
    "    shear_range=0.2,\n",
    "    zoom_range=0.2,\n",
    "    horizontal_flip=True)\n",
    "\n",
    "# L'augmentation pour le jeu de test\n",
    "# On ne fait que changer les composantes des couleurs (255 => 1)\n",
    "test_datagen = ImageDataGenerator(rescale=1. / 255) \n",
    "\n",
    "train_generator = train_datagen.flow_from_directory(\n",
    "    train_data_dir,\n",
    "    target_size=(img_width, img_height),\n",
    "    batch_size=batch_size,\n",
    "    class_mode='binary')\n",
    "\n",
    "validation_generator = test_datagen.flow_from_directory(\n",
    "    validation_data_dir,\n",
    "    target_size=(img_width, img_height),\n",
    "    batch_size=batch_size,\n",
    "    class_mode='binary')"
   ]
  },
  {
   "cell_type": "markdown",
   "metadata": {},
   "source": [
    "## Mise en place d'un modèle (convnet)"
   ]
  },
  {
   "cell_type": "code",
   "execution_count": 5,
   "metadata": {},
   "outputs": [],
   "source": [
    "model = Sequential()\n",
    "model.add(Conv2D(32, (3, 3), input_shape=(img_width, img_height, 3)))\n",
    "model.add(Activation('relu'))\n",
    "model.add(MaxPooling2D(pool_size=(2, 2)))\n",
    "\n",
    "model.add(Conv2D(32, (3, 3)))\n",
    "model.add(Activation('relu'))\n",
    "model.add(MaxPooling2D(pool_size=(2, 2)))\n",
    "\n",
    "model.add(Conv2D(64, (3, 3)))\n",
    "model.add(Activation('relu'))\n",
    "model.add(MaxPooling2D(pool_size=(2, 2)))\n",
    "\n",
    "# Le modèle produit des features en 3 dimensions (RGB, hauteur, largeur)"
   ]
  },
  {
   "cell_type": "code",
   "execution_count": 7,
   "metadata": {},
   "outputs": [],
   "source": [
    "model.add(Flatten())  # Convertion des cara 3D en un vecteur 1D\n",
    "model.add(Dense(64))\n",
    "model.add(Activation('relu'))\n",
    "model.add(Dropout(0.5))\n",
    "model.add(Dense(1))\n",
    "model.add(Activation('sigmoid'))\n",
    "\n",
    "# Utilisation de la fonction de perte 'binary_crossentropy' => TODO\n",
    "# Utilisation de l'algo d'optimisation 'rmsprop' => TODO \n",
    "# Utilisation de la metrique 'accuracy' => on mesure la précision (qu'il donne la bonne classe)\n",
    "model.compile(loss='binary_crossentropy',\n",
    "              optimizer='rmsprop',\n",
    "              metrics=['accuracy'])"
   ]
  },
  {
   "cell_type": "markdown",
   "metadata": {},
   "source": [
    "## Entrainement du modèle"
   ]
  },
  {
   "cell_type": "code",
   "execution_count": 8,
   "metadata": {},
   "outputs": [
    {
     "name": "stdout",
     "output_type": "stream",
     "text": [
      "Epoch 1/50\n",
      "125/125 [==============================] - 57s 458ms/step - loss: 0.6952 - accuracy: 0.5191 - val_loss: 0.6727 - val_accuracy: 0.5625\n",
      "Epoch 2/50\n",
      "125/125 [==============================] - 56s 445ms/step - loss: 0.6881 - accuracy: 0.5745 - val_loss: 0.6398 - val_accuracy: 0.5962\n",
      "Epoch 3/50\n",
      "125/125 [==============================] - 61s 486ms/step - loss: 0.6665 - accuracy: 0.6155 - val_loss: 0.6479 - val_accuracy: 0.6600\n",
      "Epoch 4/50\n",
      "125/125 [==============================] - 61s 491ms/step - loss: 0.6370 - accuracy: 0.6495 - val_loss: 0.6193 - val_accuracy: 0.6888\n",
      "Epoch 5/50\n",
      "125/125 [==============================] - 57s 460ms/step - loss: 0.6273 - accuracy: 0.6740 - val_loss: 0.6128 - val_accuracy: 0.6988\n",
      "Epoch 6/50\n",
      "125/125 [==============================] - 62s 494ms/step - loss: 0.6101 - accuracy: 0.6690 - val_loss: 0.4311 - val_accuracy: 0.7275\n",
      "Epoch 7/50\n",
      "125/125 [==============================] - 56s 449ms/step - loss: 0.6005 - accuracy: 0.6905 - val_loss: 0.7142 - val_accuracy: 0.6988\n",
      "Epoch 8/50\n",
      "125/125 [==============================] - 54s 435ms/step - loss: 0.5901 - accuracy: 0.7005 - val_loss: 0.6511 - val_accuracy: 0.7200\n",
      "Epoch 9/50\n",
      "125/125 [==============================] - 55s 441ms/step - loss: 0.5885 - accuracy: 0.7060 - val_loss: 0.6814 - val_accuracy: 0.7588\n",
      "Epoch 10/50\n",
      "125/125 [==============================] - 58s 466ms/step - loss: 0.5760 - accuracy: 0.7135 - val_loss: 0.4490 - val_accuracy: 0.7387\n",
      "Epoch 11/50\n",
      "125/125 [==============================] - 59s 472ms/step - loss: 0.5538 - accuracy: 0.7350 - val_loss: 0.6084 - val_accuracy: 0.7250\n",
      "Epoch 12/50\n",
      "125/125 [==============================] - 55s 443ms/step - loss: 0.5592 - accuracy: 0.7270 - val_loss: 0.5404 - val_accuracy: 0.7262\n",
      "Epoch 13/50\n",
      "125/125 [==============================] - 48s 380ms/step - loss: 0.5489 - accuracy: 0.7190 - val_loss: 0.3324 - val_accuracy: 0.7625\n",
      "Epoch 14/50\n",
      "125/125 [==============================] - 50s 403ms/step - loss: 0.5468 - accuracy: 0.7445 - val_loss: 0.6246 - val_accuracy: 0.7763\n",
      "Epoch 15/50\n",
      "125/125 [==============================] - 48s 383ms/step - loss: 0.5374 - accuracy: 0.7390 - val_loss: 0.3063 - val_accuracy: 0.7775\n",
      "Epoch 16/50\n",
      "125/125 [==============================] - 54s 429ms/step - loss: 0.5287 - accuracy: 0.7370 - val_loss: 0.6007 - val_accuracy: 0.7262\n",
      "Epoch 17/50\n",
      "125/125 [==============================] - 57s 455ms/step - loss: 0.5292 - accuracy: 0.7425 - val_loss: 0.5098 - val_accuracy: 0.7350\n",
      "Epoch 18/50\n",
      "125/125 [==============================] - 52s 418ms/step - loss: 0.5247 - accuracy: 0.7615 - val_loss: 0.6811 - val_accuracy: 0.7563\n",
      "Epoch 19/50\n",
      "125/125 [==============================] - 41s 330ms/step - loss: 0.5136 - accuracy: 0.7550 - val_loss: 0.2976 - val_accuracy: 0.7788\n",
      "Epoch 20/50\n",
      "125/125 [==============================] - 42s 334ms/step - loss: 0.5151 - accuracy: 0.7580 - val_loss: 0.4990 - val_accuracy: 0.7613\n",
      "Epoch 21/50\n",
      "125/125 [==============================] - 44s 351ms/step - loss: 0.5128 - accuracy: 0.7650 - val_loss: 0.5208 - val_accuracy: 0.7962\n",
      "Epoch 22/50\n",
      "125/125 [==============================] - 41s 329ms/step - loss: 0.5232 - accuracy: 0.7505 - val_loss: 0.4980 - val_accuracy: 0.7812\n",
      "Epoch 23/50\n",
      "125/125 [==============================] - 42s 339ms/step - loss: 0.5142 - accuracy: 0.7635 - val_loss: 0.4974 - val_accuracy: 0.8075\n",
      "Epoch 24/50\n",
      "125/125 [==============================] - 40s 322ms/step - loss: 0.5148 - accuracy: 0.7575 - val_loss: 0.4979 - val_accuracy: 0.7800\n",
      "Epoch 25/50\n",
      "125/125 [==============================] - 40s 319ms/step - loss: 0.4947 - accuracy: 0.7766 - val_loss: 0.3875 - val_accuracy: 0.7450\n",
      "Epoch 26/50\n",
      "125/125 [==============================] - 41s 327ms/step - loss: 0.5016 - accuracy: 0.7800 - val_loss: 0.3022 - val_accuracy: 0.7525\n",
      "Epoch 27/50\n",
      "125/125 [==============================] - 40s 323ms/step - loss: 0.5009 - accuracy: 0.7685 - val_loss: 0.5235 - val_accuracy: 0.8313\n",
      "Epoch 28/50\n",
      "125/125 [==============================] - 40s 322ms/step - loss: 0.4909 - accuracy: 0.7770 - val_loss: 0.6837 - val_accuracy: 0.7675\n",
      "Epoch 29/50\n",
      "125/125 [==============================] - 40s 321ms/step - loss: 0.5092 - accuracy: 0.7725 - val_loss: 0.3491 - val_accuracy: 0.7788\n",
      "Epoch 30/50\n",
      "125/125 [==============================] - 43s 345ms/step - loss: 0.5018 - accuracy: 0.7685 - val_loss: 0.2907 - val_accuracy: 0.7962\n",
      "Epoch 31/50\n",
      "125/125 [==============================] - 41s 326ms/step - loss: 0.4859 - accuracy: 0.7815 - val_loss: 0.4075 - val_accuracy: 0.7613\n",
      "Epoch 32/50\n",
      "125/125 [==============================] - 45s 359ms/step - loss: 0.4789 - accuracy: 0.7800 - val_loss: 0.6303 - val_accuracy: 0.8232\n",
      "Epoch 33/50\n",
      "125/125 [==============================] - 49s 390ms/step - loss: 0.4961 - accuracy: 0.7770 - val_loss: 0.4535 - val_accuracy: 0.7900\n",
      "Epoch 34/50\n",
      "125/125 [==============================] - 44s 356ms/step - loss: 0.4830 - accuracy: 0.7781 - val_loss: 0.4027 - val_accuracy: 0.8125\n",
      "Epoch 35/50\n",
      "125/125 [==============================] - 48s 382ms/step - loss: 0.4804 - accuracy: 0.7830 - val_loss: 0.5090 - val_accuracy: 0.7763\n",
      "Epoch 36/50\n",
      "125/125 [==============================] - 46s 365ms/step - loss: 0.4927 - accuracy: 0.7730 - val_loss: 0.3614 - val_accuracy: 0.7800\n",
      "Epoch 37/50\n",
      "125/125 [==============================] - 47s 374ms/step - loss: 0.4896 - accuracy: 0.7845 - val_loss: 0.4633 - val_accuracy: 0.7613\n",
      "Epoch 38/50\n",
      "125/125 [==============================] - 52s 417ms/step - loss: 0.5110 - accuracy: 0.7650 - val_loss: 0.5867 - val_accuracy: 0.8288\n",
      "Epoch 39/50\n",
      "125/125 [==============================] - 55s 437ms/step - loss: 0.4881 - accuracy: 0.7745 - val_loss: 0.6047 - val_accuracy: 0.7912\n",
      "Epoch 40/50\n",
      "125/125 [==============================] - 50s 398ms/step - loss: 0.4750 - accuracy: 0.7915 - val_loss: 0.4111 - val_accuracy: 0.7613\n",
      "Epoch 41/50\n",
      "125/125 [==============================] - 52s 414ms/step - loss: 0.4584 - accuracy: 0.8010 - val_loss: 0.3241 - val_accuracy: 0.8000\n",
      "Epoch 42/50\n",
      "125/125 [==============================] - 53s 423ms/step - loss: 0.4619 - accuracy: 0.7980 - val_loss: 0.4763 - val_accuracy: 0.8350\n",
      "Epoch 43/50\n",
      "125/125 [==============================] - 43s 347ms/step - loss: 0.4825 - accuracy: 0.7917 - val_loss: 0.3616 - val_accuracy: 0.8175\n",
      "Epoch 44/50\n",
      "125/125 [==============================] - 45s 364ms/step - loss: 0.4784 - accuracy: 0.7990 - val_loss: 0.2434 - val_accuracy: 0.7962\n",
      "Epoch 45/50\n",
      "125/125 [==============================] - 41s 330ms/step - loss: 0.4690 - accuracy: 0.7970 - val_loss: 0.4254 - val_accuracy: 0.7912\n",
      "Epoch 46/50\n",
      "125/125 [==============================] - 39s 311ms/step - loss: 0.4832 - accuracy: 0.7910 - val_loss: 0.3180 - val_accuracy: 0.8150\n",
      "Epoch 47/50\n",
      "125/125 [==============================] - 38s 301ms/step - loss: 0.4525 - accuracy: 0.7970 - val_loss: 0.2860 - val_accuracy: 0.8275\n",
      "Epoch 48/50\n",
      "125/125 [==============================] - 38s 300ms/step - loss: 0.4862 - accuracy: 0.7900 - val_loss: 0.4513 - val_accuracy: 0.8225\n",
      "Epoch 49/50\n",
      "125/125 [==============================] - 37s 299ms/step - loss: 0.4581 - accuracy: 0.7995 - val_loss: 0.5436 - val_accuracy: 0.8462\n",
      "Epoch 50/50\n",
      "125/125 [==============================] - 37s 299ms/step - loss: 0.4646 - accuracy: 0.7930 - val_loss: 0.3562 - val_accuracy: 0.8363\n"
     ]
    }
   ],
   "source": [
    "history = model.fit_generator(\n",
    "    train_generator,\n",
    "    steps_per_epoch=nb_train_samples // batch_size,\n",
    "    epochs=epochs,\n",
    "    validation_data=validation_generator,\n",
    "    validation_steps=nb_validation_samples // batch_size)\n",
    "\n",
    "model.save('cnn_model')"
   ]
  },
  {
   "cell_type": "code",
   "execution_count": 15,
   "metadata": {},
   "outputs": [
    {
     "data": {
      "image/png": "[encoded data removed]",
      "text/plain": [
       "<Figure size 432x288 with 1 Axes>"
      ]
     },
     "metadata": {
      "needs_background": "light"
     },
     "output_type": "display_data"
    },
    {
     "data": {
      "image/png": "[encoded data removed]",
      "text/plain": [
       "<Figure size 432x288 with 1 Axes>"
      ]
     },
     "metadata": {
      "needs_background": "light"
     },
     "output_type": "display_data"
    }
   ],
   "source": [
    "# Historique de la précision\n",
    "plt.plot(history.history['accuracy'])\n",
    "plt.plot(history.history['val_accuracy'])\n",
    "plt.title(\"Précision du modèle en fonction du nombre d'époques\")\n",
    "plt.ylabel('précision')\n",
    "plt.xlabel('époques')\n",
    "plt.legend(['train', 'test'], loc='upper left')\n",
    "plt.show()\n",
    "# Historique de la fonction de coût\n",
    "plt.plot(history.history['loss'])\n",
    "plt.plot(history.history['val_loss'])\n",
    "plt.title(\"Evolution de la fonction de coût en fonction du nombre d'époques\")\n",
    "plt.ylabel('fonction coût')\n",
    "plt.xlabel('époques')\n",
    "plt.legend(['train', 'test'], loc='upper left')\n",
    "plt.show()"
   ]
  },
  {
   "cell_type": "markdown",
   "metadata": {},
   "source": [
    "## Test du modèle"
   ]
  },
  {
   "cell_type": "markdown",
   "metadata": {},
   "source": [
    "### Génération de la matrice de confusion"
   ]
  },
  {
   "cell_type": "code",
   "execution_count": 18,
   "metadata": {},
   "outputs": [
    {
     "name": "stdout",
     "output_type": "stream",
     "text": [
      "Found 36 images belonging to 2 classes.\n"
     ]
    },
    {
     "data": {
      "text/plain": [
       "array([[18,  0],\n",
       "       [18,  0]], dtype=int64)"
      ]
     },
     "execution_count": 18,
     "metadata": {},
     "output_type": "execute_result"
    }
   ],
   "source": [
    "test_datagen = ImageDataGenerator()\n",
    "data_test = test_datagen.flow_from_directory('data/ICN-2C-data/test', target_size=(img_width, img_height), shuffle=False)\n",
    "\n",
    "predictions = model.predict(data_test)\n",
    "pred_labels = list(np.argmax(predictions, axis=-1))\n",
    "true_labels = data_test.classes\n",
    "\n",
    "cm = confusion_matrix(true_labels, pred_labels)\n",
    "cm"
   ]
  },
  {
   "cell_type": "markdown",
   "metadata": {},
   "source": [
    "### Calcule de la précision"
   ]
  },
  {
   "cell_type": "code",
   "execution_count": 19,
   "metadata": {},
   "outputs": [
    {
     "name": "stdout",
     "output_type": "stream",
     "text": [
      "Résultat : 18/36 (50.0%)\n"
     ]
    }
   ],
   "source": [
    "totalSuccess = accuracy_score(true_labels, pred_labels, normalize=False)\n",
    "totalPredictions = data_test.samples\n",
    "\n",
    "accuracy = totalSuccess / totalPredictions * 100\n",
    "\n",
    "print(\"Résultat : \" + str(totalSuccess) + \"/\" + str(totalPredictions) + \" (\"+ str(accuracy) + \"%)\")"
   ]
  },
  {
   "cell_type": "markdown",
   "metadata": {},
   "source": [
    "### Test avec une image"
   ]
  },
  {
   "cell_type": "code",
   "execution_count": 20,
   "metadata": {},
   "outputs": [
    {
     "name": "stdout",
     "output_type": "stream",
     "text": [
      "[[1.]]\n"
     ]
    },
    {
     "data": {
      "text/plain": [
       "{'cats': 0, 'dogs': 1}"
      ]
     },
     "execution_count": 20,
     "metadata": {},
     "output_type": "execute_result"
    }
   ],
   "source": [
    "# Chargement d'une image de test\n",
    "test_img_path = \"data/ICN-2C-data/train/cats/cat.21.jpg\"\n",
    "test_img = load_img(test_img_path, target_size=(150, 150))\n",
    "test_img_array = img_to_array(test_img)\n",
    "test_img_array = np.expand_dims(test_img_array, axis = 0)\n",
    "\n",
    "# Prédiction de la classe\n",
    "predict = model.predict(test_img_array)\n",
    "print(predict)\n",
    "train_generator.class_indices"
   ]
  }
 ],
 "metadata": {
  "kernelspec": {
   "display_name": "Python 3",
   "language": "python",
   "name": "python3"
  },
  "language_info": {
   "codemirror_mode": {
    "name": "ipython",
    "version": 3
   },
   "file_extension": ".py",
   "mimetype": "text/x-python",
   "name": "python",
   "nbconvert_exporter": "python",
   "pygments_lexer": "ipython3",
   "version": "3.8.7"
  }
 },
 "nbformat": 4,
 "nbformat_minor": 4
}
