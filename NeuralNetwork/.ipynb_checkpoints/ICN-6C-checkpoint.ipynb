{
 "cells": [
  {
   "cell_type": "markdown",
   "metadata": {},
   "source": [
    "# Réseaux de classification d'images (6 classes)"
   ]
  },
  {
   "cell_type": "code",
   "execution_count": 93,
   "metadata": {},
   "outputs": [],
   "source": [
    "from keras.preprocessing.image import ImageDataGenerator, array_to_img, img_to_array, load_img\n",
    "from keras.models import Sequential\n",
    "from keras.layers import Conv2D, MaxPooling2D\n",
    "from keras.layers import Activation, Dropout, Flatten, Dense\n",
    "from keras.models import load_model\n",
    "from keras import backend as K\n",
    "\n",
    "from sklearn.metrics import confusion_matrix\n",
    "from sklearn.metrics import accuracy_score\n",
    "\n",
    "import numpy as np\n",
    "from matplotlib import pyplot as plt"
   ]
  },
  {
   "cell_type": "markdown",
   "metadata": {
    "id": "PCHI8QHi-MXI"
   },
   "source": [
    "## Chargement du jeu de données"
   ]
  },
  {
   "cell_type": "code",
   "execution_count": 94,
   "metadata": {
    "colab": {
     "base_uri": "https://localhost:8080/"
    },
    "id": "OM1S6J6L61VS",
    "outputId": "612f9781-ab74-4640-8870-15ed3b595554"
   },
   "outputs": [
    {
     "name": "stdout",
     "output_type": "stream",
     "text": [
      "Found 300 images belonging to 6 classes.\n",
      "Found 60 images belonging to 6 classes.\n"
     ]
    }
   ],
   "source": [
    "batchSize = 16\n",
    "imgWidth, imgHeight = 80, 80\n",
    "\n",
    "path = \"\"\n",
    "datagen = ImageDataGenerator(\n",
    "  rescale=1.0/255,\n",
    "  shear_range=0.2,\n",
    "  zoom_range=0.2,\n",
    "  horizontal_flip=True\n",
    ")\n",
    "test_datagen = ImageDataGenerator(rescale=1./255)\n",
    "\n",
    "data_train = datagen.flow_from_directory('data/ICN-6C-data/train', batch_size=batchSize, target_size=(imgWidth, imgHeight))\n",
    "data_validation = datagen.flow_from_directory('data/ICN-6C-data/validation', batch_size=batchSize, target_size=(imgWidth, imgHeight))\n",
    "\n",
    "nbTrainSamples = data_train.samples\n",
    "nbValidationSamples = data_validation.samples"
   ]
  },
  {
   "cell_type": "markdown",
   "metadata": {},
   "source": [
    "### Extraction des classes"
   ]
  },
  {
   "cell_type": "code",
   "execution_count": 85,
   "metadata": {},
   "outputs": [
    {
     "name": "stdout",
     "output_type": "stream",
     "text": [
      "{'art_antiques': 0, 'obj_aviation': 1, 'obj_cards': 2, 'obj_dish': 3, 'pet_cat': 4, 'sc_forests': 5}\n",
      "{'art_antiques': 0, 'obj_aviation': 1, 'obj_cards': 2, 'obj_dish': 3, 'pet_cat': 4, 'sc_forests': 5}\n"
     ]
    }
   ],
   "source": [
    "print(data_train.class_indices)\n",
    "print(data_validation.class_indices)"
   ]
  },
  {
   "cell_type": "markdown",
   "metadata": {
    "id": "SsXjvezP-qlF"
   },
   "source": [
    "## Mise en place d'un modèle (convnet) multi-classe"
   ]
  },
  {
   "cell_type": "code",
   "execution_count": 95,
   "metadata": {
    "id": "eBVOZbi4-tAC"
   },
   "outputs": [],
   "source": [
    "nbClasses = len(data_train.class_indices)\n",
    "\n",
    "model = Sequential()\n",
    "model.add(Conv2D(32, (3, 3), input_shape=(imgWidth, imgHeight, 3)))\n",
    "model.add(Activation('relu'))\n",
    "model.add(MaxPooling2D(pool_size=(2, 2)))\n",
    "\n",
    "model.add(Conv2D(32, (3, 3)))\n",
    "model.add(Activation('relu'))\n",
    "model.add(MaxPooling2D(pool_size=(2, 2)))\n",
    "\n",
    "model.add(Conv2D(64, (3, 3)))\n",
    "model.add(Activation('relu'))\n",
    "model.add(MaxPooling2D(pool_size=(2, 2)))\n",
    "\n",
    "model.add(Flatten())  # Couche de conversion des features (de base sur 3 dimensions) en 1 dimensions (la classe)\n",
    "model.add(Dense(64))\n",
    "model.add(Activation('relu'))\n",
    "model.add(Dropout(0.5))\n",
    "model.add(Dense(nbClasses))\n",
    "model.add(Activation('sigmoid'))\n",
    "\n",
    "# Utilisation de la fonction de coût d'erreur \"binary_crossentropy\" -> chaque sortie est vraie ou fausse (une sortie par classe).\n",
    "model.compile(loss='binary_crossentropy',\n",
    "              optimizer='rmsprop',\n",
    "              metrics=['accuracy'])"
   ]
  },
  {
   "cell_type": "markdown",
   "metadata": {
    "id": "Iv02r0LrC8y7"
   },
   "source": [
    "## Entrainement du modèle"
   ]
  },
  {
   "cell_type": "code",
   "execution_count": 96,
   "metadata": {
    "colab": {
     "base_uri": "https://localhost:8080/"
    },
    "id": "6HVEeHcnBYwv",
    "outputId": "45bf2ab1-ba5c-483e-8cfc-944887f82610"
   },
   "outputs": [
    {
     "name": "stderr",
     "output_type": "stream",
     "text": [
      "/nix/store/4g2wq9q5638ffbc1ikx38gqhlp3z94wp-python3-3.8.7-env/lib/python3.8/site-packages/tensorflow/python/keras/engine/training.py:1844: UserWarning: `Model.fit_generator` is deprecated and will be removed in a future version. Please use `Model.fit`, which supports generators.\n",
      "  warnings.warn('`Model.fit_generator` is deprecated and '\n"
     ]
    },
    {
     "name": "stdout",
     "output_type": "stream",
     "text": [
      "Epoch 1/50\n",
      "18/18 [==============================] - 2s 85ms/step - loss: 0.5538 - accuracy: 0.2051 - val_loss: 0.4445 - val_accuracy: 0.2292\n",
      "Epoch 2/50\n",
      "18/18 [==============================] - 1s 74ms/step - loss: 0.4936 - accuracy: 0.2044 - val_loss: 0.4142 - val_accuracy: 0.4167\n",
      "Epoch 3/50\n",
      "18/18 [==============================] - 1s 73ms/step - loss: 0.4418 - accuracy: 0.3536 - val_loss: 0.3535 - val_accuracy: 0.6042\n",
      "Epoch 4/50\n",
      "18/18 [==============================] - 1s 77ms/step - loss: 0.3909 - accuracy: 0.4939 - val_loss: 0.3203 - val_accuracy: 0.6042\n",
      "Epoch 5/50\n",
      "18/18 [==============================] - 1s 70ms/step - loss: 0.3664 - accuracy: 0.4755 - val_loss: 0.3164 - val_accuracy: 0.6875\n",
      "Epoch 6/50\n",
      "18/18 [==============================] - 1s 72ms/step - loss: 0.3475 - accuracy: 0.5035 - val_loss: 0.2468 - val_accuracy: 0.7083\n",
      "Epoch 7/50\n",
      "18/18 [==============================] - 1s 68ms/step - loss: 0.3080 - accuracy: 0.6240 - val_loss: 0.2412 - val_accuracy: 0.7292\n",
      "Epoch 8/50\n",
      "18/18 [==============================] - 1s 70ms/step - loss: 0.2887 - accuracy: 0.6162 - val_loss: 0.3051 - val_accuracy: 0.5625\n",
      "Epoch 9/50\n",
      "18/18 [==============================] - 1s 73ms/step - loss: 0.2869 - accuracy: 0.6458 - val_loss: 0.2659 - val_accuracy: 0.6250\n",
      "Epoch 10/50\n",
      "18/18 [==============================] - 1s 73ms/step - loss: 0.2412 - accuracy: 0.7586 - val_loss: 0.2804 - val_accuracy: 0.6667\n",
      "Epoch 11/50\n",
      "18/18 [==============================] - 1s 73ms/step - loss: 0.2356 - accuracy: 0.7336 - val_loss: 0.2449 - val_accuracy: 0.7083\n",
      "Epoch 12/50\n",
      "18/18 [==============================] - 1s 73ms/step - loss: 0.2392 - accuracy: 0.6981 - val_loss: 0.1963 - val_accuracy: 0.7917\n",
      "Epoch 13/50\n",
      "18/18 [==============================] - 1s 69ms/step - loss: 0.2061 - accuracy: 0.7798 - val_loss: 0.2698 - val_accuracy: 0.7083\n",
      "Epoch 14/50\n",
      "18/18 [==============================] - 1s 67ms/step - loss: 0.2427 - accuracy: 0.6977 - val_loss: 0.1650 - val_accuracy: 0.8333\n",
      "Epoch 15/50\n",
      "18/18 [==============================] - 1s 67ms/step - loss: 0.1894 - accuracy: 0.7768 - val_loss: 0.1943 - val_accuracy: 0.7708\n",
      "Epoch 16/50\n",
      "18/18 [==============================] - 1s 69ms/step - loss: 0.1855 - accuracy: 0.8238 - val_loss: 0.1576 - val_accuracy: 0.8750\n",
      "Epoch 17/50\n",
      "18/18 [==============================] - 1s 70ms/step - loss: 0.2013 - accuracy: 0.7865 - val_loss: 0.1348 - val_accuracy: 0.8333\n",
      "Epoch 18/50\n",
      "18/18 [==============================] - 1s 79ms/step - loss: 0.1721 - accuracy: 0.8518 - val_loss: 0.1426 - val_accuracy: 0.8542\n",
      "Epoch 19/50\n",
      "18/18 [==============================] - 1s 75ms/step - loss: 0.1577 - accuracy: 0.8519 - val_loss: 0.1691 - val_accuracy: 0.7917\n",
      "Epoch 20/50\n",
      "18/18 [==============================] - 1s 75ms/step - loss: 0.1437 - accuracy: 0.8690 - val_loss: 0.1227 - val_accuracy: 0.8750\n",
      "Epoch 21/50\n",
      "18/18 [==============================] - 1s 73ms/step - loss: 0.1387 - accuracy: 0.8881 - val_loss: 0.1481 - val_accuracy: 0.8333\n",
      "Epoch 22/50\n",
      "18/18 [==============================] - 1s 75ms/step - loss: 0.1234 - accuracy: 0.8934 - val_loss: 0.2213 - val_accuracy: 0.7083\n",
      "Epoch 23/50\n",
      "18/18 [==============================] - 1s 82ms/step - loss: 0.1889 - accuracy: 0.8456 - val_loss: 0.1055 - val_accuracy: 0.8542\n",
      "Epoch 24/50\n",
      "18/18 [==============================] - 1s 74ms/step - loss: 0.1408 - accuracy: 0.8695 - val_loss: 0.1368 - val_accuracy: 0.8750\n",
      "Epoch 25/50\n",
      "18/18 [==============================] - 2s 84ms/step - loss: 0.1298 - accuracy: 0.8745 - val_loss: 0.1281 - val_accuracy: 0.8542\n",
      "Epoch 26/50\n",
      "18/18 [==============================] - 1s 71ms/step - loss: 0.1313 - accuracy: 0.8490 - val_loss: 0.1832 - val_accuracy: 0.7917\n",
      "Epoch 27/50\n",
      "18/18 [==============================] - 1s 71ms/step - loss: 0.1063 - accuracy: 0.9212 - val_loss: 0.1649 - val_accuracy: 0.8542\n",
      "Epoch 28/50\n",
      "18/18 [==============================] - 1s 71ms/step - loss: 0.1188 - accuracy: 0.9061 - val_loss: 0.1133 - val_accuracy: 0.8542\n",
      "Epoch 29/50\n",
      "18/18 [==============================] - 1s 74ms/step - loss: 0.1150 - accuracy: 0.8689 - val_loss: 0.1676 - val_accuracy: 0.8125\n",
      "Epoch 30/50\n",
      "18/18 [==============================] - 1s 71ms/step - loss: 0.1144 - accuracy: 0.9173 - val_loss: 0.1650 - val_accuracy: 0.8333\n",
      "Epoch 31/50\n",
      "18/18 [==============================] - 1s 69ms/step - loss: 0.0778 - accuracy: 0.9302 - val_loss: 0.1445 - val_accuracy: 0.8125\n",
      "Epoch 32/50\n",
      "18/18 [==============================] - 1s 68ms/step - loss: 0.0664 - accuracy: 0.9429 - val_loss: 0.1316 - val_accuracy: 0.8333\n",
      "Epoch 33/50\n",
      "18/18 [==============================] - 1s 68ms/step - loss: 0.0896 - accuracy: 0.9342 - val_loss: 0.1251 - val_accuracy: 0.8750\n",
      "Epoch 34/50\n",
      "18/18 [==============================] - 1s 69ms/step - loss: 0.0989 - accuracy: 0.9159 - val_loss: 0.1734 - val_accuracy: 0.8333\n",
      "Epoch 35/50\n",
      "18/18 [==============================] - 1s 70ms/step - loss: 0.1101 - accuracy: 0.9045 - val_loss: 0.1175 - val_accuracy: 0.8542\n",
      "Epoch 36/50\n",
      "18/18 [==============================] - 1s 74ms/step - loss: 0.0977 - accuracy: 0.9137 - val_loss: 0.1268 - val_accuracy: 0.8333\n",
      "Epoch 37/50\n",
      "18/18 [==============================] - 1s 69ms/step - loss: 0.1065 - accuracy: 0.9255 - val_loss: 0.0945 - val_accuracy: 0.8750\n",
      "Epoch 38/50\n",
      "18/18 [==============================] - 1s 69ms/step - loss: 0.0756 - accuracy: 0.9284 - val_loss: 0.1436 - val_accuracy: 0.8750\n",
      "Epoch 39/50\n",
      "18/18 [==============================] - 1s 73ms/step - loss: 0.0722 - accuracy: 0.9541 - val_loss: 0.1394 - val_accuracy: 0.8750\n",
      "Epoch 40/50\n",
      "18/18 [==============================] - 1s 75ms/step - loss: 0.0709 - accuracy: 0.9410 - val_loss: 0.0832 - val_accuracy: 0.9375\n",
      "Epoch 41/50\n",
      "18/18 [==============================] - 1s 72ms/step - loss: 0.0776 - accuracy: 0.9410 - val_loss: 0.1757 - val_accuracy: 0.8542\n",
      "Epoch 42/50\n",
      "18/18 [==============================] - 1s 72ms/step - loss: 0.0595 - accuracy: 0.9563 - val_loss: 0.1396 - val_accuracy: 0.8542\n",
      "Epoch 43/50\n",
      "18/18 [==============================] - 1s 75ms/step - loss: 0.0635 - accuracy: 0.9440 - val_loss: 0.0690 - val_accuracy: 0.9167\n",
      "Epoch 44/50\n",
      "18/18 [==============================] - 1s 70ms/step - loss: 0.0825 - accuracy: 0.9467 - val_loss: 0.2055 - val_accuracy: 0.7500\n",
      "Epoch 45/50\n",
      "18/18 [==============================] - 1s 80ms/step - loss: 0.0541 - accuracy: 0.9666 - val_loss: 0.2457 - val_accuracy: 0.7708\n",
      "Epoch 46/50\n",
      "18/18 [==============================] - 1s 75ms/step - loss: 0.0750 - accuracy: 0.9289 - val_loss: 0.1591 - val_accuracy: 0.8333\n",
      "Epoch 47/50\n",
      "18/18 [==============================] - 1s 73ms/step - loss: 0.0818 - accuracy: 0.9578 - val_loss: 0.1971 - val_accuracy: 0.8125\n",
      "Epoch 48/50\n",
      "18/18 [==============================] - 1s 70ms/step - loss: 0.0779 - accuracy: 0.9382 - val_loss: 0.1848 - val_accuracy: 0.8958\n",
      "Epoch 49/50\n",
      "18/18 [==============================] - 1s 70ms/step - loss: 0.0508 - accuracy: 0.9812 - val_loss: 0.2977 - val_accuracy: 0.8125\n",
      "Epoch 50/50\n",
      "18/18 [==============================] - 1s 69ms/step - loss: 0.0971 - accuracy: 0.9234 - val_loss: 0.1823 - val_accuracy: 0.8750\n",
      "INFO:tensorflow:Assets written to: models/ICN-6C/assets\n"
     ]
    }
   ],
   "source": [
    "history = model.fit_generator(\n",
    "        data_train,\n",
    "        steps_per_epoch=nbTrainSamples // batchSize,\n",
    "        epochs=50,\n",
    "        validation_data=data_validation,\n",
    "        validation_steps=nbValidationSamples // batchSize\n",
    ")\n",
    "\n",
    "# Sauvegarde du modèle\n",
    "model.save(\"models/ICN-6C\")"
   ]
  },
  {
   "cell_type": "code",
   "execution_count": 97,
   "metadata": {},
   "outputs": [
    {
     "data": {
      "image/png": "[encoded data removed]",
      "text/plain": [
       "<Figure size 432x288 with 1 Axes>"
      ]
     },
     "metadata": {
      "needs_background": "light"
     },
     "output_type": "display_data"
    },
    {
     "data": {
      "image/png": "[encoded data removed]",
      "text/plain": [
       "<Figure size 432x288 with 1 Axes>"
      ]
     },
     "metadata": {
      "needs_background": "light"
     },
     "output_type": "display_data"
    }
   ],
   "source": [
    "# Historique de la précision\n",
    "plt.plot(history.history['accuracy'])\n",
    "plt.plot(history.history['val_accuracy'])\n",
    "plt.title(\"Précision du modèle en fonction du nombre d'époques\")\n",
    "plt.ylabel('précision')\n",
    "plt.xlabel('époques')\n",
    "plt.legend(['train', 'test'], loc='upper left')\n",
    "plt.show()\n",
    "# Historique de la fonction de coût\n",
    "plt.plot(history.history['loss'])\n",
    "plt.plot(history.history['val_loss'])\n",
    "plt.title(\"Evolution de la fonction de coût en fonction du nombre d'époques\")\n",
    "plt.ylabel('fonction coût')\n",
    "plt.xlabel('époques')\n",
    "plt.legend(['train', 'test'], loc='upper left')\n",
    "plt.show()"
   ]
  },
  {
   "cell_type": "markdown",
   "metadata": {
    "id": "xSkTfJM-G5b9"
   },
   "source": [
    "## Test du modèle"
   ]
  },
  {
   "cell_type": "markdown",
   "metadata": {
    "id": "yH_Iy7_xJPkw"
   },
   "source": [
    "### Restauration du modèle"
   ]
  },
  {
   "cell_type": "code",
   "execution_count": 98,
   "metadata": {
    "colab": {
     "base_uri": "https://localhost:8080/"
    },
    "id": "QhUn3L-AHA7j",
    "outputId": "fc78edb9-617c-4748-c596-c5e8dc8a843b"
   },
   "outputs": [],
   "source": [
    "# Utile dans le cas ou on réutilise le modèle plus tard\n",
    "model = load_model(\"models/ICN-6C\")"
   ]
  },
  {
   "cell_type": "markdown",
   "metadata": {},
   "source": [
    "### Génération de la matrice de confusion"
   ]
  },
  {
   "cell_type": "code",
   "execution_count": 99,
   "metadata": {},
   "outputs": [
    {
     "name": "stdout",
     "output_type": "stream",
     "text": [
      "Found 240 images belonging to 6 classes.\n"
     ]
    },
    {
     "data": {
      "text/plain": [
       "array([[37,  2,  0,  1,  0,  0],\n",
       "       [ 2, 36,  2,  0,  0,  0],\n",
       "       [ 0,  0, 40,  0,  0,  0],\n",
       "       [ 2,  0,  2, 36,  0,  0],\n",
       "       [ 4,  0,  9,  0, 27,  0],\n",
       "       [ 4,  0, 12,  0,  0, 24]])"
      ]
     },
     "execution_count": 99,
     "metadata": {},
     "output_type": "execute_result"
    }
   ],
   "source": [
    "test_datagen = ImageDataGenerator()\n",
    "data_test = test_datagen.flow_from_directory('data/ICN-6C-data/test', target_size=(imgWidth, imgHeight), shuffle=False)\n",
    "\n",
    "predictions = model.predict(data_test)\n",
    "pred_labels = list(np.argmax(predictions, axis=-1))\n",
    "true_labels = data_test.classes\n",
    "\n",
    "cm = confusion_matrix(true_labels, pred_labels)\n",
    "cm"
   ]
  },
  {
   "cell_type": "markdown",
   "metadata": {},
   "source": [
    "### Calcule de la précision"
   ]
  },
  {
   "cell_type": "code",
   "execution_count": 100,
   "metadata": {},
   "outputs": [
    {
     "name": "stdout",
     "output_type": "stream",
     "text": [
      "Résultat : 200/240 (83.33333333333334%)\n"
     ]
    }
   ],
   "source": [
    "totalSuccess = accuracy_score(true_labels, pred_labels, normalize=False)\n",
    "totalPredictions = data_test.samples\n",
    "\n",
    "accuracy = totalSuccess / totalPredictions * 100\n",
    "\n",
    "print(\"Résultat : \" + str(totalSuccess) + \"/\" + str(totalPredictions) + \" (\"+ str(accuracy) + \"%)\")"
   ]
  },
  {
   "cell_type": "markdown",
   "metadata": {},
   "source": [
    "## Application - tri d'images"
   ]
  },
  {
   "cell_type": "code",
   "execution_count": 58,
   "metadata": {},
   "outputs": [
    {
     "name": "stdout",
     "output_type": "stream",
     "text": [
      "DONE\n"
     ]
    }
   ],
   "source": [
    "import os\n",
    "import shutil\n",
    "\n",
    "class_indices = data_train.class_indices\n",
    "class_list = list(class_indices)\n",
    "\n",
    "current_path = os.getcwd()\n",
    "sorted_path = os.path.join(current_path, \"application/sorted/\")\n",
    "unsorted_path = os.path.join(current_path, \"application/unsorted\")\n",
    "\n",
    "# Suppression des anciennes utilisation\n",
    "shutil.rmtree(sorted_path)\n",
    "\n",
    "def get_class_dir(clazz):\n",
    "    return os.path.join(sorted_path, clazz)\n",
    "\n",
    "def predict_image_class(image_path):\n",
    "    # Chargement de l'image\n",
    "    img = load_img(image_path, target_size=(80, 80))\n",
    "    img_array = img_to_array(img)\n",
    "    img_array = np.expand_dims(img_array, axis = 0)\n",
    "\n",
    "    # Prédiction de la classe\n",
    "    return model.predict(img_array)\n",
    "\n",
    "def extract_class_from_predict(predict):\n",
    "    pass\n",
    "    \n",
    "    \n",
    "# 1. Créer un sous-dossier pour chaque classe connues de mon modèle\n",
    "for key in class_indices:\n",
    "    # Création d'un dossier par classe\n",
    "    path =  get_class_dir(key)\n",
    "    os.makedirs(path)\n",
    "\n",
    "\n",
    "# 2. Parcourir les images non-triées (dans un dossier unsorted)\n",
    "for filename in os.listdir(unsorted_path):\n",
    "    # On vérifie que c'est bien une image (jpg)\n",
    "    if filename.endswith(\".jpg\"):\n",
    "        file_path = os.path.join(unsorted_path, filename)\n",
    "        # 3. Charger chaque image et demander au modèle de prédire la classe\n",
    "        # On récupère seulement la meilleure prédiction\n",
    "        top_predict = ((-predict_image_class(file_path)).argsort())[0][:1]\n",
    "        # print(top_predict[0])\n",
    "        img_class = class_list[top_predict[0]]\n",
    "        # print(img_class)\n",
    "        class_dir = get_class_dir(img_class)\n",
    "        # 4. En fonction de la classe prédite déplacer l’image dans le sous-dossier correspondant.\n",
    "        shutil.move(file_path, class_dir)\n",
    "\n",
    "print(\"DONE\")"
   ]
  }
 ],
 "metadata": {
  "colab": {
   "collapsed_sections": [],
   "name": "Projet classification image",
   "provenance": [],
   "toc_visible": true
  },
  "kernelspec": {
   "display_name": "Python 3",
   "language": "python",
   "name": "python3"
  },
  "language_info": {
   "codemirror_mode": {
    "name": "ipython",
    "version": 3
   },
   "file_extension": ".py",
   "mimetype": "text/x-python",
   "name": "python",
   "nbconvert_exporter": "python",
   "pygments_lexer": "ipython3",
   "version": "3.8.7"
  }
 },
 "nbformat": 4,
 "nbformat_minor": 1
}
